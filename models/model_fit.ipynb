{
 "cells": [
  {
   "cell_type": "markdown",
   "metadata": {},
   "source": [
    "## Data Set Construction and Break Up"
   ]
  },
  {
   "cell_type": "markdown",
   "metadata": {},
   "source": [
    "For the sake of trying to see how we will perform in coming years we will hold out the last two years for test data which will ultimately be used to evaluate our model. There are some questions with this methodology though as these recent years could be biased in some way that is different from our training data. In fact, some of our data exploration shows just this: that the data has experienced some covariate shift over time as players changed. This however is fine though as we are assuming that this trend shall continue such that modern data is most representative of future data. Whether or not this is a fair assumption though will be shown with time. The reason to make use of the whole year rather than random sampling from it is that data within a year is related in the sense that a quarterback will always be throwing to a receiver such that if we train on how a quarterback performed in a particular game, we will have some guess as to how the receivers on that team performed. Whether the model is able to pick up on this or not is a different matter but training on this related data would pollute our data. \n",
    "\n",
    "This file serves to make two csvs: train.csv and test.csv where train.csv will be our training/validation data and test is our testing data. The testing data should never be used in model selection or training."
   ]
  },
  {
   "cell_type": "code",
   "execution_count": 1,
   "metadata": {},
   "outputs": [],
   "source": [
    "import pandas as pd\n",
    "import numpy as np\n",
    "from models.model_help import last_n_weeks, construct_model_vector"
   ]
  },
  {
   "cell_type": "code",
   "execution_count": 2,
   "metadata": {},
   "outputs": [],
   "source": [
    "# Set dataset parameters\n",
    "# number of previous games to include in analysis\n",
    "n = 7"
   ]
  },
  {
   "cell_type": "code",
   "execution_count": 3,
   "metadata": {},
   "outputs": [],
   "source": [
    "# Read in saved player data\n",
    "players_df = pd.read_csv('data/game_pro_ftb_ref_top_220.csv')\n",
    "players_df = players_df[players_df['pos'] != '0']"
   ]
  },
  {
   "cell_type": "code",
   "execution_count": 4,
   "metadata": {},
   "outputs": [
    {
     "name": "stdout",
     "output_type": "stream",
     "text": [
      "NEW LEN:\n",
      "110\n",
      "final vec: [ 0.     1.     0.     0.    27.191  0.     0.     0.     0.     0.\n",
      "  0.     0.     0.     0.     0.     0.     0.     0.     0.     0.\n",
      "  0.     0.     0.     0.     0.     0.     0.     0.     0.     0.\n",
      "  0.     0.     0.     0.     0.     0.     0.     0.     0.     0.\n",
      "  0.     0.     0.     0.     0.     0.     0.     0.     0.     0.\n",
      "  0.     0.     0.     0.     0.     0.     0.     0.     0.     0.\n",
      "  0.     0.     0.     0.     0.     0.     0.     0.     0.     0.\n",
      "  0.     0.     0.     0.     0.     0.     0.     0.     0.     0.\n",
      "  0.     0.     0.     0.     0.     0.     0.     0.     0.     0.\n",
      "  0.     0.     0.     0.     0.     0.     0.     0.     0.     0.\n",
      "  0.     0.     0.     0.     0.     0.     0.     0.     0.     0.   ]\n",
      "pos: [0. 1. 0. 0.]\n",
      "age: [27.191]\n",
      "games: [0. 0. 0. 0. 0. 0. 0. 0. 0. 0. 0. 0. 0. 0. 0. 0. 0. 0. 0. 0. 0. 0. 0. 0.\n",
      " 0. 0. 0. 0. 0. 0. 0. 0. 0. 0. 0. 0. 0. 0. 0. 0. 0. 0. 0. 0. 0. 0. 0. 0.\n",
      " 0. 0. 0. 0. 0. 0. 0. 0. 0. 0. 0. 0. 0. 0. 0. 0. 0. 0. 0. 0. 0. 0. 0. 0.\n",
      " 0. 0. 0. 0. 0. 0. 0. 0. 0. 0. 0. 0. 0. 0. 0. 0. 0. 0. 0. 0. 0. 0. 0. 0.\n",
      " 0. 0. 0. 0. 0. 0. 0. 0. 0.]\n",
      "(0, full_name                  Marshall Faulk\n",
      "pos                                    RB\n",
      "year                                 2000\n",
      "game_date                      2000-09-04\n",
      "game_num                                1\n",
      "                           ...           \n",
      "stub              /players/F/FaulMa00.htm\n",
      "reason                                NaN\n",
      "fantasy_points                       31.8\n",
      "5years                          2000-2004\n",
      "career_game                             0\n",
      "Name: 0, Length: 84, dtype: object)\n",
      "NEW LEN:\n",
      "5\n",
      "final vec: [ 0.     0.     0.     1.    23.113]\n",
      "pos: [0. 0. 0. 1.]\n",
      "age: [23.113]\n",
      "games: []\n",
      "(27764, full_name         Marcedes Lewis\n",
      "pos                           TE\n",
      "year                        2007\n",
      "game_date             2007-09-09\n",
      "game_num                       1\n",
      "                       ...      \n",
      "stub                           0\n",
      "reason                       NaN\n",
      "fantasy_points               5.5\n",
      "5years                 2005-2009\n",
      "career_game                  135\n",
      "Name: 27764, Length: 84, dtype: object)\n",
      "NEW LEN:\n",
      "20\n",
      "final vec: [ 0.    0.    0.    1.   23.12  0.    0.   35.    4.    0.    0.    0.\n",
      "  0.    0.    0.    0.    0.    0.    0.    5.5 ]\n",
      "pos: [0. 0. 0. 1.]\n",
      "age: [23.12]\n",
      "games: [ 0.   0.  35.   4.   0.   0.   0.   0.   0.   0.   0.   0.   0.   0.\n",
      "  5.5]\n",
      "(27765, full_name         Marcedes Lewis\n",
      "pos                           TE\n",
      "year                        2007\n",
      "game_date             2007-09-16\n",
      "game_num                       2\n",
      "                       ...      \n",
      "stub                           0\n",
      "reason                       NaN\n",
      "fantasy_points               4.9\n",
      "5years                 2005-2009\n",
      "career_game                  136\n",
      "Name: 27765, Length: 84, dtype: object)\n",
      "NEW LEN:\n",
      "35\n",
      "final vec: [ 0.     0.     0.     1.    23.127  0.     0.    35.     4.     0.\n",
      "  0.     0.     0.     0.     0.     0.     0.     0.     0.     5.5\n",
      "  0.     0.    39.     2.     0.     0.     0.     0.     0.     0.\n",
      "  0.     0.     0.     0.     4.9  ]\n",
      "pos: [0. 0. 0. 1.]\n",
      "age: [23.127]\n",
      "games: [ 0.   0.  35.   4.   0.   0.   0.   0.   0.   0.   0.   0.   0.   0.\n",
      "  5.5  0.   0.  39.   2.   0.   0.   0.   0.   0.   0.   0.   0.   0.\n",
      "  0.   4.9]\n",
      "(27766, full_name         Marcedes Lewis\n",
      "pos                           TE\n",
      "year                        2007\n",
      "game_date             2007-09-23\n",
      "game_num                       3\n",
      "                       ...      \n",
      "stub                           0\n",
      "reason                       NaN\n",
      "fantasy_points               5.9\n",
      "5years                 2005-2009\n",
      "career_game                  137\n",
      "Name: 27766, Length: 84, dtype: object)\n",
      "NEW LEN:\n",
      "50\n",
      "final vec: [ 0.     0.     0.     1.    23.141  0.     0.    35.     4.     0.\n",
      "  0.     0.     0.     0.     0.     0.     0.     0.     0.     5.5\n",
      "  0.     0.    39.     2.     0.     0.     0.     0.     0.     0.\n",
      "  0.     0.     0.     0.     4.9    0.     0.    44.     3.     0.\n",
      "  0.     0.     0.     0.     0.     0.     0.     0.     0.     5.9  ]\n",
      "pos: [0. 0. 0. 1.]\n",
      "age: [23.141]\n",
      "games: [ 0.   0.  35.   4.   0.   0.   0.   0.   0.   0.   0.   0.   0.   0.\n",
      "  5.5  0.   0.  39.   2.   0.   0.   0.   0.   0.   0.   0.   0.   0.\n",
      "  0.   4.9  0.   0.  44.   3.   0.   0.   0.   0.   0.   0.   0.   0.\n",
      "  0.   0.   5.9]\n",
      "(27767, full_name         Marcedes Lewis\n",
      "pos                           TE\n",
      "year                        2007\n",
      "game_date             2007-10-07\n",
      "game_num                       4\n",
      "                       ...      \n",
      "stub                           0\n",
      "reason                       NaN\n",
      "fantasy_points               2.8\n",
      "5years                 2005-2009\n",
      "career_game                  138\n",
      "Name: 27767, Length: 84, dtype: object)\n",
      "NEW LEN:\n",
      "65\n",
      "final vec: [ 0.     0.     0.     1.    23.148  0.     0.    35.     4.     0.\n",
      "  0.     0.     0.     0.     0.     0.     0.     0.     0.     5.5\n",
      "  0.     0.    39.     2.     0.     0.     0.     0.     0.     0.\n",
      "  0.     0.     0.     0.     4.9    0.     0.    44.     3.     0.\n",
      "  0.     0.     0.     0.     0.     0.     0.     0.     0.     5.9\n",
      "  0.     0.    13.     3.     0.     0.     0.     0.     0.     0.\n",
      "  0.     0.     0.     0.     2.8  ]\n",
      "pos: [0. 0. 0. 1.]\n",
      "age: [23.148]\n",
      "games: [ 0.   0.  35.   4.   0.   0.   0.   0.   0.   0.   0.   0.   0.   0.\n",
      "  5.5  0.   0.  39.   2.   0.   0.   0.   0.   0.   0.   0.   0.   0.\n",
      "  0.   4.9  0.   0.  44.   3.   0.   0.   0.   0.   0.   0.   0.   0.\n",
      "  0.   0.   5.9  0.   0.  13.   3.   0.   0.   0.   0.   0.   0.   0.\n",
      "  0.   0.   0.   2.8]\n",
      "(27768, full_name         Marcedes Lewis\n",
      "pos                           TE\n",
      "year                        2007\n",
      "game_date             2007-10-14\n",
      "game_num                       5\n",
      "                       ...      \n",
      "stub                           0\n",
      "reason                       NaN\n",
      "fantasy_points                 4\n",
      "5years                 2005-2009\n",
      "career_game                  139\n",
      "Name: 27768, Length: 84, dtype: object)\n",
      "NEW LEN:\n",
      "80\n",
      "final vec: [ 0.     0.     0.     1.    23.156  0.     0.    35.     4.     0.\n",
      "  0.     0.     0.     0.     0.     0.     0.     0.     0.     5.5\n",
      "  0.     0.    39.     2.     0.     0.     0.     0.     0.     0.\n",
      "  0.     0.     0.     0.     4.9    0.     0.    44.     3.     0.\n",
      "  0.     0.     0.     0.     0.     0.     0.     0.     0.     5.9\n",
      "  0.     0.    13.     3.     0.     0.     0.     0.     0.     0.\n",
      "  0.     0.     0.     0.     2.8    0.     0.    30.     2.     0.\n",
      "  0.     0.     0.     0.     0.     0.     0.     0.     0.     4.   ]\n",
      "pos: [0. 0. 0. 1.]\n",
      "age: [23.156]\n",
      "games: [ 0.   0.  35.   4.   0.   0.   0.   0.   0.   0.   0.   0.   0.   0.\n",
      "  5.5  0.   0.  39.   2.   0.   0.   0.   0.   0.   0.   0.   0.   0.\n",
      "  0.   4.9  0.   0.  44.   3.   0.   0.   0.   0.   0.   0.   0.   0.\n",
      "  0.   0.   5.9  0.   0.  13.   3.   0.   0.   0.   0.   0.   0.   0.\n",
      "  0.   0.   0.   2.8  0.   0.  30.   2.   0.   0.   0.   0.   0.   0.\n",
      "  0.   0.   0.   0.   4. ]\n",
      "(27769, full_name         Marcedes Lewis\n",
      "pos                           TE\n",
      "year                        2007\n",
      "game_date             2007-10-22\n",
      "game_num                       6\n",
      "                       ...      \n",
      "stub                           0\n",
      "reason                       NaN\n",
      "fantasy_points               2.3\n",
      "5years                 2005-2009\n",
      "career_game                  140\n",
      "Name: 27769, Length: 84, dtype: object)\n",
      "NEW LEN:\n",
      "95\n",
      "final vec: [ 0.     0.     0.     1.    23.162  0.     0.    35.     4.     0.\n",
      "  0.     0.     0.     0.     0.     0.     0.     0.     0.     5.5\n",
      "  0.     0.    39.     2.     0.     0.     0.     0.     0.     0.\n",
      "  0.     0.     0.     0.     4.9    0.     0.    44.     3.     0.\n",
      "  0.     0.     0.     0.     0.     0.     0.     0.     0.     5.9\n",
      "  0.     0.    13.     3.     0.     0.     0.     0.     0.     0.\n",
      "  0.     0.     0.     0.     2.8    0.     0.    30.     2.     0.\n",
      "  0.     0.     0.     0.     0.     0.     0.     0.     0.     4.\n",
      "  0.     0.    13.     2.     0.     0.     0.     0.     0.     0.\n",
      "  0.     0.     0.     0.     2.3  ]\n",
      "pos: [0. 0. 0. 1.]\n",
      "age: [23.162]\n",
      "games: [ 0.   0.  35.   4.   0.   0.   0.   0.   0.   0.   0.   0.   0.   0.\n",
      "  5.5  0.   0.  39.   2.   0.   0.   0.   0.   0.   0.   0.   0.   0.\n",
      "  0.   4.9  0.   0.  44.   3.   0.   0.   0.   0.   0.   0.   0.   0.\n",
      "  0.   0.   5.9  0.   0.  13.   3.   0.   0.   0.   0.   0.   0.   0.\n",
      "  0.   0.   0.   2.8  0.   0.  30.   2.   0.   0.   0.   0.   0.   0.\n",
      "  0.   0.   0.   0.   4.   0.   0.  13.   2.   0.   0.   0.   0.   0.\n",
      "  0.   0.   0.   0.   0.   2.3]\n",
      "(27770, full_name         Marcedes Lewis\n",
      "pos                           TE\n",
      "year                        2007\n",
      "game_date             2007-10-28\n",
      "game_num                       7\n",
      "                       ...      \n",
      "stub                           0\n",
      "reason                       NaN\n",
      "fantasy_points                 0\n",
      "5years                 2005-2009\n",
      "career_game                  141\n",
      "Name: 27770, Length: 84, dtype: object)\n"
     ]
    },
    {
     "ename": "KeyboardInterrupt",
     "evalue": "",
     "output_type": "error",
     "traceback": [
      "\u001b[0;31m---------------------------------------------------------------------------\u001b[0m",
      "\u001b[0;31mKeyboardInterrupt\u001b[0m                         Traceback (most recent call last)",
      "\u001b[0;32m<ipython-input-4-32a40ec4429b>\u001b[0m in \u001b[0;36m<module>\u001b[0;34m\u001b[0m\n\u001b[1;32m      1\u001b[0m \u001b[0;31m# Construct dataset vectors\u001b[0m\u001b[0;34m\u001b[0m\u001b[0;34m\u001b[0m\u001b[0;34m\u001b[0m\u001b[0m\n\u001b[0;32m----> 2\u001b[0;31m \u001b[0munstandardized\u001b[0m \u001b[0;34m=\u001b[0m \u001b[0mconstruct_model_vector\u001b[0m\u001b[0;34m(\u001b[0m\u001b[0mplayers_df\u001b[0m\u001b[0;34m,\u001b[0m \u001b[0mn\u001b[0m\u001b[0;34m)\u001b[0m\u001b[0;34m\u001b[0m\u001b[0;34m\u001b[0m\u001b[0m\n\u001b[0m",
      "\u001b[0;32m~/Documents/projects/fantasy_preds/fantasy-football-predictor/models/model_help.py\u001b[0m in \u001b[0;36mconstruct_model_vector\u001b[0;34m(df, n)\u001b[0m\n\u001b[1;32m     47\u001b[0m         \u001b[0mage\u001b[0m \u001b[0;34m=\u001b[0m \u001b[0mnp\u001b[0m\u001b[0;34m.\u001b[0m\u001b[0marray\u001b[0m\u001b[0;34m(\u001b[0m\u001b[0;34m[\u001b[0m\u001b[0mgame\u001b[0m\u001b[0;34m[\u001b[0m\u001b[0;36m1\u001b[0m\u001b[0;34m]\u001b[0m\u001b[0;34m[\u001b[0m\u001b[0;34m'age'\u001b[0m\u001b[0;34m]\u001b[0m\u001b[0;34m]\u001b[0m\u001b[0;34m)\u001b[0m\u001b[0;34m\u001b[0m\u001b[0;34m\u001b[0m\u001b[0m\n\u001b[1;32m     48\u001b[0m \u001b[0;34m\u001b[0m\u001b[0m\n\u001b[0;32m---> 49\u001b[0;31m         \u001b[0mprev_games\u001b[0m \u001b[0;34m=\u001b[0m \u001b[0mlast_n_weeks\u001b[0m\u001b[0;34m(\u001b[0m\u001b[0mdf\u001b[0m\u001b[0;34m,\u001b[0m \u001b[0mgame\u001b[0m\u001b[0;34m[\u001b[0m\u001b[0;36m1\u001b[0m\u001b[0;34m]\u001b[0m\u001b[0;34m[\u001b[0m\u001b[0;34m'stub'\u001b[0m\u001b[0;34m]\u001b[0m\u001b[0;34m,\u001b[0m \u001b[0mint\u001b[0m\u001b[0;34m(\u001b[0m\u001b[0mgame\u001b[0m\u001b[0;34m[\u001b[0m\u001b[0;36m1\u001b[0m\u001b[0;34m]\u001b[0m\u001b[0;34m[\u001b[0m\u001b[0;34m'career_game'\u001b[0m\u001b[0;34m]\u001b[0m\u001b[0;34m)\u001b[0m\u001b[0;34m,\u001b[0m \u001b[0mn\u001b[0m\u001b[0;34m)\u001b[0m\u001b[0;34m\u001b[0m\u001b[0;34m\u001b[0m\u001b[0m\n\u001b[0m\u001b[1;32m     50\u001b[0m         \u001b[0mgames_vec\u001b[0m \u001b[0;34m=\u001b[0m \u001b[0mprev_games\u001b[0m\u001b[0;34m[\u001b[0m\u001b[0mrelevant_stats\u001b[0m\u001b[0;34m]\u001b[0m\u001b[0;34m.\u001b[0m\u001b[0mto_numpy\u001b[0m\u001b[0;34m(\u001b[0m\u001b[0;34m)\u001b[0m\u001b[0;34m.\u001b[0m\u001b[0mflatten\u001b[0m\u001b[0;34m(\u001b[0m\u001b[0;34m)\u001b[0m\u001b[0;34m\u001b[0m\u001b[0;34m\u001b[0m\u001b[0m\n\u001b[1;32m     51\u001b[0m         \u001b[0mfinal_vec\u001b[0m \u001b[0;34m=\u001b[0m \u001b[0mnp\u001b[0m\u001b[0;34m.\u001b[0m\u001b[0mconcatenate\u001b[0m\u001b[0;34m(\u001b[0m\u001b[0;34m(\u001b[0m\u001b[0mpos\u001b[0m\u001b[0;34m,\u001b[0m \u001b[0mage\u001b[0m\u001b[0;34m,\u001b[0m \u001b[0mgames_vec\u001b[0m\u001b[0;34m)\u001b[0m\u001b[0;34m)\u001b[0m\u001b[0;34m\u001b[0m\u001b[0;34m\u001b[0m\u001b[0m\n",
      "\u001b[0;32m~/Documents/projects/fantasy_preds/fantasy-football-predictor/models/model_help.py\u001b[0m in \u001b[0;36mlast_n_weeks\u001b[0;34m(df, stub, career_game, n)\u001b[0m\n\u001b[1;32m     17\u001b[0m     \u001b[0mReturns\u001b[0m\u001b[0;34m:\u001b[0m \u001b[0mlast\u001b[0m \u001b[0mn\u001b[0m \u001b[0mweeks\u001b[0m \u001b[0;32mfor\u001b[0m \u001b[0mthe\u001b[0m \u001b[0mplayer\u001b[0m \u001b[0mbefore\u001b[0m \u001b[0mthe\u001b[0m \u001b[0mgiven\u001b[0m \u001b[0mdate\u001b[0m\u001b[0;34m\u001b[0m\u001b[0;34m\u001b[0m\u001b[0m\n\u001b[1;32m     18\u001b[0m     \"\"\"\n\u001b[0;32m---> 19\u001b[0;31m     \u001b[0mlast_n\u001b[0m \u001b[0;34m=\u001b[0m \u001b[0mdf\u001b[0m\u001b[0;34m[\u001b[0m\u001b[0;34m(\u001b[0m\u001b[0mdf\u001b[0m\u001b[0;34m[\u001b[0m\u001b[0;34m'stub'\u001b[0m\u001b[0;34m]\u001b[0m \u001b[0;34m==\u001b[0m \u001b[0mstub\u001b[0m\u001b[0;34m)\u001b[0m \u001b[0;34m&\u001b[0m \u001b[0;34m(\u001b[0m\u001b[0mdf\u001b[0m\u001b[0;34m[\u001b[0m\u001b[0;34m'career_game'\u001b[0m\u001b[0;34m]\u001b[0m \u001b[0;34m>=\u001b[0m \u001b[0mcareer_game\u001b[0m \u001b[0;34m-\u001b[0m \u001b[0mn\u001b[0m\u001b[0;34m)\u001b[0m \u001b[0;34m&\u001b[0m \u001b[0;34m(\u001b[0m\u001b[0mdf\u001b[0m\u001b[0;34m[\u001b[0m\u001b[0;34m'career_game'\u001b[0m\u001b[0;34m]\u001b[0m \u001b[0;34m<\u001b[0m \u001b[0mcareer_game\u001b[0m\u001b[0;34m)\u001b[0m\u001b[0;34m]\u001b[0m\u001b[0;34m\u001b[0m\u001b[0;34m\u001b[0m\u001b[0m\n\u001b[0m\u001b[1;32m     20\u001b[0m \u001b[0;34m\u001b[0m\u001b[0m\n\u001b[1;32m     21\u001b[0m     \u001b[0;31m# append 0 values to fill in missing values if career_game < n. Could maybe\u001b[0m\u001b[0;34m\u001b[0m\u001b[0;34m\u001b[0m\u001b[0;34m\u001b[0m\u001b[0m\n",
      "\u001b[0;32m/usr/local/Caskroom/miniconda/base/envs/cos429/lib/python3.7/site-packages/pandas/core/ops/__init__.py\u001b[0m in \u001b[0;36mwrapper\u001b[0;34m(self, other, axis)\u001b[0m\n\u001b[1;32m   1227\u001b[0m \u001b[0;34m\u001b[0m\u001b[0m\n\u001b[1;32m   1228\u001b[0m             \u001b[0;32mwith\u001b[0m \u001b[0mnp\u001b[0m\u001b[0;34m.\u001b[0m\u001b[0merrstate\u001b[0m\u001b[0;34m(\u001b[0m\u001b[0mall\u001b[0m\u001b[0;34m=\u001b[0m\u001b[0;34m\"ignore\"\u001b[0m\u001b[0;34m)\u001b[0m\u001b[0;34m:\u001b[0m\u001b[0;34m\u001b[0m\u001b[0;34m\u001b[0m\u001b[0m\n\u001b[0;32m-> 1229\u001b[0;31m                 \u001b[0mres\u001b[0m \u001b[0;34m=\u001b[0m \u001b[0mna_op\u001b[0m\u001b[0;34m(\u001b[0m\u001b[0mvalues\u001b[0m\u001b[0;34m,\u001b[0m \u001b[0mother\u001b[0m\u001b[0;34m)\u001b[0m\u001b[0;34m\u001b[0m\u001b[0;34m\u001b[0m\u001b[0m\n\u001b[0m\u001b[1;32m   1230\u001b[0m             \u001b[0;32mif\u001b[0m \u001b[0mis_scalar\u001b[0m\u001b[0;34m(\u001b[0m\u001b[0mres\u001b[0m\u001b[0;34m)\u001b[0m\u001b[0;34m:\u001b[0m\u001b[0;34m\u001b[0m\u001b[0;34m\u001b[0m\u001b[0m\n\u001b[1;32m   1231\u001b[0m                 raise TypeError(\n",
      "\u001b[0;32m/usr/local/Caskroom/miniconda/base/envs/cos429/lib/python3.7/site-packages/pandas/core/ops/__init__.py\u001b[0m in \u001b[0;36mna_op\u001b[0;34m(x, y)\u001b[0m\n\u001b[1;32m   1089\u001b[0m \u001b[0;34m\u001b[0m\u001b[0m\n\u001b[1;32m   1090\u001b[0m         \u001b[0;32mif\u001b[0m \u001b[0mis_object_dtype\u001b[0m\u001b[0;34m(\u001b[0m\u001b[0mx\u001b[0m\u001b[0;34m.\u001b[0m\u001b[0mdtype\u001b[0m\u001b[0;34m)\u001b[0m\u001b[0;34m:\u001b[0m\u001b[0;34m\u001b[0m\u001b[0;34m\u001b[0m\u001b[0m\n\u001b[0;32m-> 1091\u001b[0;31m             \u001b[0mresult\u001b[0m \u001b[0;34m=\u001b[0m \u001b[0m_comp_method_OBJECT_ARRAY\u001b[0m\u001b[0;34m(\u001b[0m\u001b[0mop\u001b[0m\u001b[0;34m,\u001b[0m \u001b[0mx\u001b[0m\u001b[0;34m,\u001b[0m \u001b[0my\u001b[0m\u001b[0;34m)\u001b[0m\u001b[0;34m\u001b[0m\u001b[0;34m\u001b[0m\u001b[0m\n\u001b[0m\u001b[1;32m   1092\u001b[0m \u001b[0;34m\u001b[0m\u001b[0m\n\u001b[1;32m   1093\u001b[0m         \u001b[0;32melif\u001b[0m \u001b[0mis_datetimelike_v_numeric\u001b[0m\u001b[0;34m(\u001b[0m\u001b[0mx\u001b[0m\u001b[0;34m,\u001b[0m \u001b[0my\u001b[0m\u001b[0;34m)\u001b[0m\u001b[0;34m:\u001b[0m\u001b[0;34m\u001b[0m\u001b[0;34m\u001b[0m\u001b[0m\n",
      "\u001b[0;32m/usr/local/Caskroom/miniconda/base/envs/cos429/lib/python3.7/site-packages/pandas/core/ops/__init__.py\u001b[0m in \u001b[0;36m_comp_method_OBJECT_ARRAY\u001b[0;34m(op, x, y)\u001b[0m\n\u001b[1;32m   1067\u001b[0m         \u001b[0mresult\u001b[0m \u001b[0;34m=\u001b[0m \u001b[0mlibops\u001b[0m\u001b[0;34m.\u001b[0m\u001b[0mvec_compare\u001b[0m\u001b[0;34m(\u001b[0m\u001b[0mx\u001b[0m\u001b[0;34m,\u001b[0m \u001b[0my\u001b[0m\u001b[0;34m,\u001b[0m \u001b[0mop\u001b[0m\u001b[0;34m)\u001b[0m\u001b[0;34m\u001b[0m\u001b[0;34m\u001b[0m\u001b[0m\n\u001b[1;32m   1068\u001b[0m     \u001b[0;32melse\u001b[0m\u001b[0;34m:\u001b[0m\u001b[0;34m\u001b[0m\u001b[0;34m\u001b[0m\u001b[0m\n\u001b[0;32m-> 1069\u001b[0;31m         \u001b[0mresult\u001b[0m \u001b[0;34m=\u001b[0m \u001b[0mlibops\u001b[0m\u001b[0;34m.\u001b[0m\u001b[0mscalar_compare\u001b[0m\u001b[0;34m(\u001b[0m\u001b[0mx\u001b[0m\u001b[0;34m,\u001b[0m \u001b[0my\u001b[0m\u001b[0;34m,\u001b[0m \u001b[0mop\u001b[0m\u001b[0;34m)\u001b[0m\u001b[0;34m\u001b[0m\u001b[0;34m\u001b[0m\u001b[0m\n\u001b[0m\u001b[1;32m   1070\u001b[0m     \u001b[0;32mreturn\u001b[0m \u001b[0mresult\u001b[0m\u001b[0;34m\u001b[0m\u001b[0;34m\u001b[0m\u001b[0m\n\u001b[1;32m   1071\u001b[0m \u001b[0;34m\u001b[0m\u001b[0m\n",
      "\u001b[0;31mKeyboardInterrupt\u001b[0m: "
     ]
    }
   ],
   "source": [
    "# Construct dataset vectors\n",
    "unstandardized = construct_model_vector(players_df, n)"
   ]
  },
  {
   "cell_type": "code",
   "execution_count": null,
   "metadata": {},
   "outputs": [],
   "source": [
    "# Standardize stat vectors\n",
    "np.where(unstandardized[0][:, 3] == 1, unstandardized[0])"
   ]
  },
  {
   "cell_type": "code",
   "execution_count": 57,
   "metadata": {},
   "outputs": [],
   "source": [
    "vals = players_df.loc[(players_df['full_name'] == 'Taysom Hill') & (players_df['pos'] == 'QB')]"
   ]
  },
  {
   "cell_type": "code",
   "execution_count": 58,
   "metadata": {},
   "outputs": [],
   "source": [
    "players_df.loc[(players_df['full_name'] == 'Taysom Hill') & (players_df['pos'] == 'QB'), 'stub'] = ['/players/H/HillTa00.htm'] * vals.shape[0]"
   ]
  },
  {
   "cell_type": "code",
   "execution_count": 59,
   "metadata": {},
   "outputs": [
    {
     "data": {
      "text/plain": [
       "68771    /players/H/HillTa00.htm\n",
       "68772    /players/H/HillTa00.htm\n",
       "68773    /players/H/HillTa00.htm\n",
       "68774    /players/H/HillTa00.htm\n",
       "68775    /players/H/HillTa00.htm\n",
       "68776    /players/H/HillTa00.htm\n",
       "68777    /players/H/HillTa00.htm\n",
       "68778    /players/H/HillTa00.htm\n",
       "68779    /players/H/HillTa00.htm\n",
       "68780    /players/H/HillTa00.htm\n",
       "68781    /players/H/HillTa00.htm\n",
       "68782    /players/H/HillTa00.htm\n",
       "68783    /players/H/HillTa00.htm\n",
       "68784    /players/H/HillTa00.htm\n",
       "68785    /players/H/HillTa00.htm\n",
       "68786    /players/H/HillTa00.htm\n",
       "71415    /players/H/HillTa00.htm\n",
       "71416    /players/H/HillTa00.htm\n",
       "71417    /players/H/HillTa00.htm\n",
       "71418    /players/H/HillTa00.htm\n",
       "71419    /players/H/HillTa00.htm\n",
       "71420    /players/H/HillTa00.htm\n",
       "71421    /players/H/HillTa00.htm\n",
       "71422    /players/H/HillTa00.htm\n",
       "71423    /players/H/HillTa00.htm\n",
       "71424    /players/H/HillTa00.htm\n",
       "71425    /players/H/HillTa00.htm\n",
       "71426    /players/H/HillTa00.htm\n",
       "71427    /players/H/HillTa00.htm\n",
       "71428    /players/H/HillTa00.htm\n",
       "71429    /players/H/HillTa00.htm\n",
       "71430    /players/H/HillTa00.htm\n",
       "Name: stub, dtype: object"
      ]
     },
     "execution_count": 59,
     "metadata": {},
     "output_type": "execute_result"
    }
   ],
   "source": [
    "players_df[(players_df['full_name'] == 'Taysom Hill') & (players_df['pos'] == 'QB')]['stub']"
   ]
  },
  {
   "cell_type": "code",
   "execution_count": 60,
   "metadata": {},
   "outputs": [
    {
     "data": {
      "text/html": [
       "<div>\n",
       "<style scoped>\n",
       "    .dataframe tbody tr th:only-of-type {\n",
       "        vertical-align: middle;\n",
       "    }\n",
       "\n",
       "    .dataframe tbody tr th {\n",
       "        vertical-align: top;\n",
       "    }\n",
       "\n",
       "    .dataframe thead th {\n",
       "        text-align: right;\n",
       "    }\n",
       "</style>\n",
       "<table border=\"1\" class=\"dataframe\">\n",
       "  <thead>\n",
       "    <tr style=\"text-align: right;\">\n",
       "      <th></th>\n",
       "      <th>full_name</th>\n",
       "      <th>pos</th>\n",
       "      <th>year</th>\n",
       "      <th>game_date</th>\n",
       "      <th>game_num</th>\n",
       "      <th>week_num</th>\n",
       "      <th>age</th>\n",
       "      <th>team</th>\n",
       "      <th>game_location</th>\n",
       "      <th>opp</th>\n",
       "      <th>...</th>\n",
       "      <th>defense</th>\n",
       "      <th>def_pct</th>\n",
       "      <th>special_teams</th>\n",
       "      <th>st_pct</th>\n",
       "      <th>unique_id</th>\n",
       "      <th>stub</th>\n",
       "      <th>reason</th>\n",
       "      <th>fantasy_points</th>\n",
       "      <th>5years</th>\n",
       "      <th>career_game</th>\n",
       "    </tr>\n",
       "  </thead>\n",
       "  <tbody>\n",
       "  </tbody>\n",
       "</table>\n",
       "<p>0 rows × 84 columns</p>\n",
       "</div>"
      ],
      "text/plain": [
       "Empty DataFrame\n",
       "Columns: [full_name, pos, year, game_date, game_num, week_num, age, team, game_location, opp, game_result, gs, rush_att, rush_yds, rush_yds_per_att, rush_td, targets, rec, rec_yds, rec_yds_per_rec, rec_td, catch_pct, rec_yds_per_tgt, kick_ret, kick_ret_yds, kick_ret_yds_per_ret, kick_ret_td, two_pt_md, all_td, scoring, pass_cmp, pass_att, pass_cmp_perc, pass_yds, pass_td, pass_int, pass_rating, pass_sacked, pass_sacked_yds, pass_yds_per_att, pass_adj_yds_per_att, fumbles, fumbles_lost, fumbles_forced, fumbles_rec, fumbles_rec_yds, fumbles_rec_td, punt_ret, punt_ret_yds, punt_ret_yds_per_ret, punt_ret_td, def_int, def_int_yds, def_int_td, pass_defended, sacks, tackles_solo, tackles_assists, tackles_combined, tackles_loss, qb_hits, punt, punt_yds, punt_yds_per_punt, punt_blocked, safety_md, xpm, xpa, xp_perc, fgm, fga, fg_perc, offense, off_pct, defense, def_pct, special_teams, st_pct, unique_id, stub, reason, fantasy_points, 5years, career_game]\n",
       "Index: []\n",
       "\n",
       "[0 rows x 84 columns]"
      ]
     },
     "execution_count": 60,
     "metadata": {},
     "output_type": "execute_result"
    }
   ],
   "source": [
    "players_df[players_df['stub']== '0']"
   ]
  },
  {
   "cell_type": "code",
   "execution_count": 25,
   "metadata": {},
   "outputs": [
    {
     "data": {
      "text/plain": [
       "112"
      ]
     },
     "execution_count": 25,
     "metadata": {},
     "output_type": "execute_result"
    }
   ],
   "source": [
    "len(['/players/L/LewiMa00.htm'] * vals.shape[0])"
   ]
  },
  {
   "cell_type": "code",
   "execution_count": null,
   "metadata": {},
   "outputs": [],
   "source": []
  }
 ],
 "metadata": {
  "kernelspec": {
   "display_name": "Python (cos429)",
   "language": "python",
   "name": "cos429"
  },
  "language_info": {
   "codemirror_mode": {
    "name": "ipython",
    "version": 3
   },
   "file_extension": ".py",
   "mimetype": "text/x-python",
   "name": "python",
   "nbconvert_exporter": "python",
   "pygments_lexer": "ipython3",
   "version": "3.7.4"
  }
 },
 "nbformat": 4,
 "nbformat_minor": 4
}
