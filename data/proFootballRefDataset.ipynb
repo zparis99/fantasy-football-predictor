{
 "cells": [
  {
   "cell_type": "markdown",
   "metadata": {},
   "source": [
    "## Pro Football Reference Dataset"
   ]
  },
  {
   "cell_type": "code",
   "execution_count": 3,
   "metadata": {},
   "outputs": [],
   "source": [
    "import requests\n",
    "import pandas as pd\n",
    "import numpy as np\n",
    "import random\n",
    "from bs4 import BeautifulSoup"
   ]
  },
  {
   "cell_type": "code",
   "execution_count": 4,
   "metadata": {},
   "outputs": [],
   "source": [
    "url = 'https://www.pro-football-reference.com'\n",
    "fantasy_url = '/years/{}/fantasy.htm'\n",
    "game_url = '/gamelog/'"
   ]
  },
  {
   "cell_type": "code",
   "execution_count": 24,
   "metadata": {},
   "outputs": [],
   "source": [
    "# Option 1 for grabbing players: Grab a certain amount per position. More finicky towards parameters but \n",
    "# may not underrepresent a particular position\n",
    "# Max number of players to gather for each position per year\n",
    "position_limits = { 'QB': 32, 'RB': 60, 'WR': 80, 'TE': 25}\n",
    "pos_file_key = '{}_pro_ftb_ref_per_position_{}_{}_{}_{}.csv'.format('{}', position_limits['QB'], position_limits['RB'],\n",
    "                                                                 position_limits['WR'], position_limits['TE'])\n",
    "# Option 2: just grab top n players\n",
    "n = 220\n",
    "n_file_key = '{}_pro_ftb_ref_top_{}.csv'.format('{}', str(n))\n",
    "# True if using top_n else False\n",
    "top_n = True"
   ]
  },
  {
   "cell_type": "code",
   "execution_count": 21,
   "metadata": {},
   "outputs": [],
   "source": [
    "data = []\n",
    "encountered = []\n",
    "update_top_n = []"
   ]
  },
  {
   "cell_type": "code",
   "execution_count": 22,
   "metadata": {},
   "outputs": [
    {
     "name": "stdout",
     "output_type": "stream",
     "text": [
      "2000\n",
      "0\n",
      "150\n",
      "2001\n",
      "0\n",
      "150\n",
      "2002\n",
      "0\n",
      "150\n",
      "2003\n",
      "0\n",
      "150\n",
      "2004\n",
      "0\n",
      "150\n",
      "2005\n",
      "0\n",
      "150\n",
      "2006\n",
      "0\n",
      "150\n",
      "2007\n",
      "0\n",
      "150\n",
      "2008\n",
      "0\n",
      "150\n",
      "2009\n",
      "0\n",
      "150\n",
      "2010\n",
      "0\n",
      "150\n",
      "2011\n",
      "0\n",
      "150\n",
      "2012\n",
      "0\n",
      "150\n",
      "2013\n",
      "0\n",
      "150\n",
      "2014\n",
      "0\n",
      "Error: Corey Knox , , 2014\n",
      "150\n",
      "2015\n",
      "0\n",
      "150\n",
      "2016\n",
      "0\n",
      "150\n",
      "2017\n",
      "0\n",
      "150\n",
      "2018\n",
      "0\n",
      "150\n",
      "2019\n",
      "0\n",
      "150\n",
      "2020\n",
      "0\n",
      "150\n"
     ]
    }
   ],
   "source": [
    "for year in range(2000, 2021):\n",
    "    position_counts = { 'QB': 0, 'RB': 0, 'WR': 0, 'TE': 0, '': 0 }\n",
    "    tot_players = 0\n",
    "    print(year)\n",
    "    r = requests.get(url + fantasy_url.format(year))\n",
    "    soup = BeautifulSoup(r.content, 'html.parser')\n",
    "    fantasy_table = soup.find_all('table')[0]\n",
    "    for row in fantasy_table.find_all('tr')[2:]:\n",
    "        player_html = row.find('td', attrs={'data-stat': 'player'})\n",
    "        pos_html = row.find('td', attrs={'data-stat': 'fantasy_pos'})\n",
    "        if player_html is None or pos_html is None:\n",
    "            continue\n",
    "            \n",
    "        name = player_html.a.get_text()\n",
    "        pos = pos_html.get_text()\n",
    "        stub = player_html.a.get('href')\n",
    "        \n",
    "        # Check if exit condition is met\n",
    "        if top_n:\n",
    "            if tot_players % 150 == 0:\n",
    "                print(tot_players)\n",
    "            if tot_players >= n:\n",
    "                break\n",
    "            tot_players += 1\n",
    "        else:\n",
    "            if position_counts[pos] >= position_limits[pos]:\n",
    "                print(position_counts)\n",
    "                # See if all positions are filled\n",
    "                greater = True\n",
    "                for key in position_counts.keys():\n",
    "                    if position_counts[key] < position_limits[key]:\n",
    "                        greater = False\n",
    "                        break\n",
    "                if greater:\n",
    "                    break\n",
    "                else:\n",
    "                    continue\n",
    "            position_counts[pos] += 1\n",
    "            \n",
    "        # If player has been seen before, mark that year of career as\n",
    "        # being in top_n\n",
    "        if stub in encountered:\n",
    "            update_top_n.append((stub, year))\n",
    "            continue\n",
    "        encountered.append(stub)\n",
    "        \n",
    "        \n",
    "        player_url = url + stub + game_url\n",
    "        r_player = requests.get(player_url)\n",
    "        player_soup = BeautifulSoup(r_player.content, 'html.parser')\n",
    "        try:\n",
    "            player_table = player_soup.find_all('table')[0]\n",
    "        except:\n",
    "            print('Error: {}, {}, {}'.format(name, pos, year))\n",
    "            continue\n",
    "        for row in player_table.find_all('tr')[2:]:\n",
    "            player_stat = { 'name': name, 'pos': pos, 'stub': stub }\n",
    "            for data_row in row.find_all('td'):\n",
    "                data_title = data_row.get('data-stat')\n",
    "                data_val = data_row.get_text()\n",
    "                    \n",
    "                player_stat[data_title] = data_val\n",
    "\n",
    "            # Remove garbage rows\n",
    "            if 'year_id' not in player_stat.keys():\n",
    "                continue\n",
    "            # Mark rows which appear in top n\n",
    "            if player_stat['year_id'] == year:\n",
    "                player_stat['top_n'] = True\n",
    "            else:\n",
    "                player_stat['top_n'] = False\n",
    "                \n",
    "            data.append(player_stat)"
   ]
  },
  {
   "cell_type": "code",
   "execution_count": 29,
   "metadata": {},
   "outputs": [],
   "source": [
    "update_top_n = []"
   ]
  },
  {
   "cell_type": "code",
   "execution_count": 25,
   "metadata": {},
   "outputs": [],
   "source": [
    "players_df = pd.DataFrame(data)\n",
    "# Clean up data\n",
    "players_df['off_pct'] = players_df['off_pct'].apply(lambda x: int(x[:-1]) if x is not np.nan and x != '' else np.nan)\n",
    "players_df['def_pct'] = players_df['def_pct'].apply(lambda x: int(x[:-1]) if x is not np.nan and x != '' else np.nan)\n",
    "players_df['st_pct'] = players_df['st_pct'].apply(lambda x: int(x[:-1]) if x is not np.nan and x != '' else np.nan)\n",
    "# Rename so as to not interfere with pandas.Series name attribute, and year for backwards compatability\n",
    "players_df.rename(columns={'name': 'full_name', 'year_id': 'year'}, inplace=True)\n",
    "\n",
    "# Update the top_n flag for the years that need it\n",
    "for stub, year in update_top_n:\n",
    "    players_df.loc[(players_df['stub'] == stub) & (players_df['year'] == year), 'top_n'] = True\n",
    "\n",
    "game_df = players_df[~(players_df['week_num'] == '')]\n",
    "annual_df = players_df[players_df['week_num'] == '']\n",
    "\n",
    "# Assign each player what is most likely a unique id although not 100% guarenteed if player shares a name, team,\n",
    "# position, and year\n",
    "game_df.loc[:, 'unique_id'] = game_df.apply(lambda row: row.full_name + ',' + row.team + ',' + row.pos + ',' + str(row.year), axis=1)\n",
    "annual_df.loc[:, 'unique_id'] = annual_df.apply(lambda row: row.full_name + ',' + row.team + ',' + row.pos + ',' + str(row.year), axis=1)\n",
    "# annual_df.loc[:, 'unique'] = annual_df.apply(lambda row: print(row.full_name), axis=1)\n",
    "\n",
    "if top_n:\n",
    "    game_df.to_csv(n_file_key.format('game'), index=False)\n",
    "    annual_df.to_csv(n_file_key.format('annual'), index=False)\n",
    "else:\n",
    "    game_df.to_csv(pos_file_key.format('game'), index=False)\n",
    "    annual_df.to_csv(pos_file_key.format('annual'), index=False)"
   ]
  },
  {
   "cell_type": "code",
   "execution_count": 9,
   "metadata": {},
   "outputs": [],
   "source": [
    "game_df = pd.read_csv('data/game_pro_ftb_ref_top_220.csv')\n",
    "annual_df = pd.read_csv('data/annual_pro_ftb_ref_top_220.csv')"
   ]
  },
  {
   "cell_type": "code",
   "execution_count": 34,
   "metadata": {},
   "outputs": [
    {
     "name": "stdout",
     "output_type": "stream",
     "text": [
      "2000\n",
      "0\n",
      "150\n",
      "2001\n",
      "0\n",
      "150\n",
      "2002\n",
      "0\n",
      "150\n",
      "2003\n",
      "0\n",
      "150\n",
      "2004\n",
      "0\n",
      "150\n",
      "2005\n",
      "0\n",
      "150\n",
      "2006\n",
      "0\n",
      "150\n",
      "2007\n",
      "0\n",
      "150\n",
      "2008\n",
      "0\n",
      "150\n",
      "2009\n",
      "0\n",
      "150\n",
      "2010\n",
      "0\n",
      "150\n",
      "2011\n",
      "0\n",
      "150\n",
      "2012\n",
      "0\n",
      "150\n",
      "2013\n",
      "0\n",
      "150\n",
      "2014\n",
      "0\n",
      "150\n",
      "2015\n",
      "0\n",
      "150\n",
      "2016\n",
      "0\n",
      "150\n",
      "2017\n",
      "0\n",
      "150\n",
      "2018\n",
      "0\n",
      "150\n",
      "2019\n",
      "0\n",
      "150\n",
      "2020\n",
      "0\n",
      "150\n"
     ]
    }
   ],
   "source": [
    "for year in range(2000, 2021):\n",
    "    position_counts = { 'QB': 0, 'RB': 0, 'WR': 0, 'TE': 0, '': 0 }\n",
    "    tot_players = 0\n",
    "    print(year)\n",
    "    r = requests.get(url + fantasy_url.format(year))\n",
    "    soup = BeautifulSoup(r.content, 'html.parser')\n",
    "    fantasy_table = soup.find_all('table')[0]\n",
    "    for row in fantasy_table.find_all('tr')[2:]:\n",
    "        player_html = row.find('td', attrs={'data-stat': 'player'})\n",
    "        pos_html = row.find('td', attrs={'data-stat': 'fantasy_pos'})\n",
    "        if player_html is None or pos_html is None:\n",
    "            continue\n",
    "            \n",
    "        name = player_html.a.get_text()\n",
    "        pos = pos_html.get_text()\n",
    "        stub = player_html.a.get('href')\n",
    "        \n",
    "        # Check if exit condition is met\n",
    "        if top_n:\n",
    "            if tot_players % 150 == 0:\n",
    "                print(tot_players)\n",
    "            if tot_players >= n:\n",
    "                break\n",
    "            tot_players += 1\n",
    "        else:\n",
    "            if position_counts[pos] >= position_limits[pos]:\n",
    "                print(position_counts)\n",
    "                # See if all positions are filled\n",
    "                greater = True\n",
    "                for key in position_counts.keys():\n",
    "                    if position_counts[key] < position_limits[key]:\n",
    "                        greater = False\n",
    "                        break\n",
    "                if greater:\n",
    "                    break\n",
    "                else:\n",
    "                    continue\n",
    "            position_counts[pos] += 1\n",
    "            \n",
    "        # Check to make sure player hasnt been seen yet for this year\n",
    "        if stub + str(year) in encountered:\n",
    "            continue\n",
    "        encountered.append(stub + str(year))\n",
    "        \n",
    "        for df in [game_df, annual_df]:\n",
    "            curr_player_df = df[(df['full_name'] == name) & (df['pos'] == pos) & (df['year'] == year)]\n",
    "            \n",
    "            df.at[curr_player_df.index, 'stub'] = stub"
   ]
  },
  {
   "cell_type": "code",
   "execution_count": 25,
   "metadata": {},
   "outputs": [
    {
     "data": {
      "text/plain": [
       "16"
      ]
     },
     "execution_count": 25,
     "metadata": {},
     "output_type": "execute_result"
    }
   ],
   "source": [
    "len(['a' for a in curr_player_df.index])"
   ]
  },
  {
   "cell_type": "code",
   "execution_count": 26,
   "metadata": {},
   "outputs": [
    {
     "data": {
      "text/plain": [
       "16"
      ]
     },
     "execution_count": 26,
     "metadata": {},
     "output_type": "execute_result"
    }
   ],
   "source": [
    "len(curr_player_df.index)"
   ]
  },
  {
   "cell_type": "code",
   "execution_count": 39,
   "metadata": {},
   "outputs": [],
   "source": [
    "game_df.to_csv('data/game_pro_ftb_ref_top_220.csv', index=False)"
   ]
  },
  {
   "cell_type": "code",
   "execution_count": 40,
   "metadata": {},
   "outputs": [],
   "source": [
    "annual_df.to_csv('data/annual_pro_ftb_ref_top_220.csv', index=False)"
   ]
  },
  {
   "cell_type": "code",
   "execution_count": null,
   "metadata": {},
   "outputs": [],
   "source": []
  }
 ],
 "metadata": {
  "kernelspec": {
   "display_name": "Python (cos429)",
   "language": "python",
   "name": "cos429"
  },
  "language_info": {
   "codemirror_mode": {
    "name": "ipython",
    "version": 3
   },
   "file_extension": ".py",
   "mimetype": "text/x-python",
   "name": "python",
   "nbconvert_exporter": "python",
   "pygments_lexer": "ipython3",
   "version": "3.7.4"
  }
 },
 "nbformat": 4,
 "nbformat_minor": 4
}
