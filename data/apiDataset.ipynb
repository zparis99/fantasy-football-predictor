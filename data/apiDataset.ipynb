{
 "cells": [
  {
   "cell_type": "code",
   "execution_count": null,
   "metadata": {},
   "outputs": [],
   "source": [
    "import pandas as pd\n",
    "import requests\n",
    "\n",
    "from fantasy import fantasy_points\n",
    "from creds import nfl_api_key"
   ]
  },
  {
   "cell_type": "code",
   "execution_count": null,
   "metadata": {},
   "outputs": [],
   "source": [
    "schedule_url = 'https://profootballapi.com/schedule'\n",
    "game_url = 'https://profootballapi.com/game'"
   ]
  },
  {
   "cell_type": "code",
   "execution_count": 200,
   "metadata": {},
   "outputs": [],
   "source": [
    "all_games = requests.post(schedule_url, params={'api_key': nfl_api_key, 'season_type': 'REG'}).json()"
   ]
  },
  {
   "cell_type": "markdown",
   "metadata": {},
   "source": [
    "## Gather defensive data"
   ]
  },
  {
   "cell_type": "code",
   "execution_count": 173,
   "metadata": {},
   "outputs": [],
   "source": [
    "curr_year = 2019\n",
    "# defensive_data = []\n",
    "try:\n",
    "    for game in all_games:\n",
    "        new_response = requests.post(game_url, params={'api_key': nfl_api_key, 'game_id': game['id']})\n",
    "        game_resp = new_response.json()\n",
    "        if str(curr_year) == game['year']:\n",
    "            print(curr_year)\n",
    "            curr_year += 1\n",
    "\n",
    "        for team, loc, opposition_loc in [(game['home'], 'home', 'away'), (game['away'], 'away', 'home')]:\n",
    "            opp_pyds = game_resp[opposition_loc]['pyds']\n",
    "            opp_ryds = game_resp[opposition_loc]['ryds']\n",
    "            opp_pts = game[opposition_loc + '_score']\n",
    "\n",
    "            # Calculate touchdowns\n",
    "            rtds = 0\n",
    "            ptds = 0\n",
    "            passing_players = game_resp[opposition_loc]['stats']['passing']\n",
    "            for passing_player in passing_players.keys():\n",
    "                ptds += passing_players[passing_player]['touchdowns']\n",
    "\n",
    "            rushing_players = game_resp[opposition_loc]['stats']['rushing']\n",
    "            for rushing_player in rushing_players.keys():\n",
    "                rtds += rushing_players[rushing_player]['touchdowns']\n",
    "\n",
    "            # Calculate specific defense stats\n",
    "            forced_fumbles = 0\n",
    "            ints = 0\n",
    "            sacks = 0\n",
    "            defensive_players = game_resp[loc]['stats']['defense']\n",
    "            for defensive_player in defensive_players.keys():\n",
    "                forced_fumbles += defensive_players[defensive_player]['forced_fumbles']\n",
    "                ints += defensive_players[defensive_player]['interceptions']\n",
    "                sacks += defensive_players[defensive_player]['sacks']\n",
    "            defensive_data.append([game['year'], game['week'], team, opp_pyds, opp_ryds, opp_pts, forced_fumbles, ints, sacks])\n",
    "except Exception as e:\n",
    "    print('Error! {} vs {}. Year {} Week {}'.format(game['home'], game['away'], game['year'], game['week']))\n",
    "    pass"
   ]
  },
  {
   "cell_type": "code",
   "execution_count": 183,
   "metadata": {},
   "outputs": [],
   "source": [
    "defense_df = pd.DataFrame(defensive_data, columns=['Year', 'Week', 'Team', 'Opp Pass Yards', 'Opp Rush Yards', 'Opp Points', 'Forced Fumbles', 'Ints', 'Sacks'])\n",
    "defense_df = defense_df.drop_duplicates()\n",
    "defense_df['Year'] = defense_df['Year'].astype(int)\n",
    "defense_df['Week'] = defense_df['Week'].astype(int)"
   ]
  },
  {
   "cell_type": "code",
   "execution_count": 193,
   "metadata": {},
   "outputs": [],
   "source": [
    "defense_df.to_csv('defensive_data.csv', index=False)"
   ]
  },
  {
   "cell_type": "markdown",
   "metadata": {},
   "source": [
    "### Individual Defense Stats"
   ]
  },
  {
   "cell_type": "code",
   "execution_count": 240,
   "metadata": {},
   "outputs": [],
   "source": [
    "ind_defense_encountered = []"
   ]
  },
  {
   "cell_type": "code",
   "execution_count": 241,
   "metadata": {},
   "outputs": [
    {
     "name": "stdout",
     "output_type": "stream",
     "text": [
      "2009\n",
      "2010\n",
      "2011\n",
      "2012\n",
      "2013\n",
      "2014\n",
      "2015\n",
      "2016\n",
      "2017\n",
      "2018\n",
      "Error! TEN vs WAS. Year 2018 Week 16\n",
      "JSONDecodeError('Expecting value: line 1 column 1 (char 0)')\n",
      "Error! CAR vs ATL. Year 2018 Week 16\n",
      "JSONDecodeError('Expecting value: line 1 column 1 (char 0)')\n",
      "Error! CLE vs CIN. Year 2018 Week 16\n",
      "JSONDecodeError('Expecting value: line 1 column 1 (char 0)')\n",
      "Error! DAL vs TB. Year 2018 Week 16\n",
      "JSONDecodeError('Expecting value: line 1 column 1 (char 0)')\n",
      "Error! DET vs MIN. Year 2018 Week 16\n",
      "JSONDecodeError('Expecting value: line 1 column 1 (char 0)')\n",
      "Error! NE vs BUF. Year 2018 Week 16\n",
      "JSONDecodeError('Expecting value: line 1 column 1 (char 0)')\n",
      "Error! NYJ vs GB. Year 2018 Week 16\n",
      "JSONDecodeError('Expecting value: line 1 column 1 (char 0)')\n",
      "Error! PHI vs HOU. Year 2018 Week 16\n",
      "JSONDecodeError('Expecting value: line 1 column 1 (char 0)')\n",
      "Error! LAC vs BAL. Year 2018 Week 16\n",
      "JSONDecodeError('Expecting value: line 1 column 1 (char 0)')\n",
      "Error! ARI vs LA. Year 2018 Week 16\n",
      "JSONDecodeError('Expecting value: line 1 column 1 (char 0)')\n",
      "Error! SF vs CHI. Year 2018 Week 16\n",
      "JSONDecodeError('Expecting value: line 1 column 1 (char 0)')\n",
      "Error! NO vs PIT. Year 2018 Week 16\n",
      "JSONDecodeError('Expecting value: line 1 column 1 (char 0)')\n",
      "Error! SEA vs KC. Year 2018 Week 16\n",
      "JSONDecodeError('Expecting value: line 1 column 1 (char 0)')\n",
      "2019\n",
      "Error! NE vs BUF. Year 2019 Week 16\n",
      "JSONDecodeError('Expecting value: line 1 column 1 (char 0)')\n",
      "Error! SF vs LA. Year 2019 Week 16\n",
      "JSONDecodeError('Expecting value: line 1 column 1 (char 0)')\n",
      "Error! TB vs HOU. Year 2019 Week 16\n",
      "JSONDecodeError('Expecting value: line 1 column 1 (char 0)')\n",
      "Error! ATL vs JAX. Year 2019 Week 16\n",
      "JSONDecodeError('Expecting value: line 1 column 1 (char 0)')\n",
      "Error! CLE vs BAL. Year 2019 Week 16\n",
      "JSONDecodeError('Expecting value: line 1 column 1 (char 0)')\n",
      "Error! IND vs CAR. Year 2019 Week 16\n",
      "JSONDecodeError('Expecting value: line 1 column 1 (char 0)')\n",
      "Error! MIA vs CIN. Year 2019 Week 16\n",
      "JSONDecodeError('Expecting value: line 1 column 1 (char 0)')\n",
      "Error! NYJ vs PIT. Year 2019 Week 16\n",
      "JSONDecodeError('Expecting value: line 1 column 1 (char 0)')\n",
      "Error! TEN vs NO. Year 2019 Week 16\n",
      "JSONDecodeError('Expecting value: line 1 column 1 (char 0)')\n",
      "Error! WAS vs NYG. Year 2019 Week 16\n",
      "JSONDecodeError('Expecting value: line 1 column 1 (char 0)')\n",
      "Error! PHI vs DAL. Year 2019 Week 16\n",
      "JSONDecodeError('Expecting value: line 1 column 1 (char 0)')\n",
      "Error! SEA vs ARI. Year 2019 Week 16\n",
      "JSONDecodeError('Expecting value: line 1 column 1 (char 0)')\n",
      "Error! CHI vs KC. Year 2019 Week 16\n",
      "JSONDecodeError('Expecting value: line 1 column 1 (char 0)')\n"
     ]
    }
   ],
   "source": [
    "curr_year = 2009\n",
    "ind_def_data = []\n",
    "\n",
    "for game in all_games:\n",
    "    try:\n",
    "        game_id = str(game['year']) + str(game['week']) + game['home'] + game['away']\n",
    "        if game_id in ind_defense_encountered:\n",
    "            continue\n",
    "        \n",
    "        ind_defense_encountered.append(game_id)\n",
    "            \n",
    "        new_response = requests.post(game_url, params={'api_key': nfl_api_key, 'game_id': game['id']})\n",
    "        game_resp = new_response.json()\n",
    "        if str(curr_year) == game['year']:\n",
    "            print(curr_year)\n",
    "            curr_year += 1\n",
    "\n",
    "        for team, loc, opp_loc in [(game['home'], 'home', 'away'), (game['away'], 'away', 'home')]:\n",
    "            team_pts = game[loc + '_score']\n",
    "            opp_team = game[opp_loc]\n",
    "            opp_pts = game[opp_loc + '_score']\n",
    "\n",
    "            # Gather player data\n",
    "            players = {}\n",
    "\n",
    "            if 'defense' in game_resp[loc]['stats'].keys():\n",
    "                defense_players = game_resp[loc]['stats']['defense']\n",
    "                for defense_player in defense_players.keys():\n",
    "                    curr_player = defense_players[defense_player]\n",
    "                    player_entry = { 'two_points': 0 }\n",
    "                    if defense_player in players.keys():\n",
    "                        player_entry = players[defense_player]\n",
    "                    player_entry['name'] = curr_player['name']\n",
    "                    player_entry['tackles'] = curr_player['tackles']\n",
    "                    player_entry['assisted_tackles'] = curr_player['assisted_tackles']\n",
    "                    player_entry['sacks'] = curr_player['sacks']\n",
    "                    player_entry['interceptions'] = curr_player['interceptions']\n",
    "                    player_entry['forced_fumbles'] = curr_player['forced_fumbles']\n",
    "                    players[defense_player] = player_entry\n",
    "\n",
    "            for player_key in players.keys():\n",
    "                player = players[player_key]\n",
    "                ind_def_data.append([game['year'], game['week'], team, opp_team, player.get('name'),\n",
    "                                       player.get('tackles', 0), player.get('assisted_tackles', 0), player.get('sacks', 0), player.get('interceptions', 0), player.get('forced_fumbles', 0),\n",
    "                                       team_pts, opp_pts, player_key\n",
    "                                       ])\n",
    "    except Exception as e:\n",
    "        print('Error! {} vs {}. Year {} Week {}'.format(game['home'], game['away'], game['year'], game['week']))\n",
    "        print(getattr(e, 'message', repr(e)))\n",
    "        pass"
   ]
  },
  {
   "cell_type": "code",
   "execution_count": 242,
   "metadata": {},
   "outputs": [],
   "source": [
    "ind_def_df = pd.DataFrame(ind_def_data, columns=['Year', 'Week', 'Team', 'Opposing Team', 'Name', 'Tackles', 'Assisted Tackles', 'Sacks', 'Ints', 'Forced Fumbles', 'Team Score', 'Opposing Score', 'PlayerID'])\n",
    "ind_def_df.to_csv('ind_defensive_data.csv', index=False)"
   ]
  },
  {
   "cell_type": "markdown",
   "metadata": {},
   "source": [
    "## Offensive Stats"
   ]
  },
  {
   "cell_type": "code",
   "execution_count": 236,
   "metadata": {},
   "outputs": [],
   "source": [
    "offensive_encountered = []"
   ]
  },
  {
   "cell_type": "code",
   "execution_count": 237,
   "metadata": {},
   "outputs": [
    {
     "name": "stdout",
     "output_type": "stream",
     "text": [
      "2009\n",
      "2010\n",
      "2011\n",
      "2012\n",
      "2013\n",
      "2014\n",
      "2015\n",
      "2016\n",
      "2017\n",
      "2018\n",
      "Error! TEN vs WAS. Year 2018 Week 16\n",
      "JSONDecodeError('Expecting value: line 1 column 1 (char 0)')\n",
      "Error! CAR vs ATL. Year 2018 Week 16\n",
      "JSONDecodeError('Expecting value: line 1 column 1 (char 0)')\n",
      "Error! CLE vs CIN. Year 2018 Week 16\n",
      "JSONDecodeError('Expecting value: line 1 column 1 (char 0)')\n",
      "Error! DAL vs TB. Year 2018 Week 16\n",
      "JSONDecodeError('Expecting value: line 1 column 1 (char 0)')\n",
      "Error! DET vs MIN. Year 2018 Week 16\n",
      "JSONDecodeError('Expecting value: line 1 column 1 (char 0)')\n",
      "Error! NE vs BUF. Year 2018 Week 16\n",
      "JSONDecodeError('Expecting value: line 1 column 1 (char 0)')\n",
      "Error! NYJ vs GB. Year 2018 Week 16\n",
      "JSONDecodeError('Expecting value: line 1 column 1 (char 0)')\n",
      "Error! PHI vs HOU. Year 2018 Week 16\n",
      "JSONDecodeError('Expecting value: line 1 column 1 (char 0)')\n",
      "Error! LAC vs BAL. Year 2018 Week 16\n",
      "JSONDecodeError('Expecting value: line 1 column 1 (char 0)')\n",
      "Error! ARI vs LA. Year 2018 Week 16\n",
      "JSONDecodeError('Expecting value: line 1 column 1 (char 0)')\n",
      "Error! SF vs CHI. Year 2018 Week 16\n",
      "JSONDecodeError('Expecting value: line 1 column 1 (char 0)')\n",
      "Error! NO vs PIT. Year 2018 Week 16\n",
      "JSONDecodeError('Expecting value: line 1 column 1 (char 0)')\n",
      "Error! SEA vs KC. Year 2018 Week 16\n",
      "JSONDecodeError('Expecting value: line 1 column 1 (char 0)')\n",
      "2019\n",
      "Error! NE vs BUF. Year 2019 Week 16\n",
      "JSONDecodeError('Expecting value: line 1 column 1 (char 0)')\n",
      "Error! SF vs LA. Year 2019 Week 16\n",
      "JSONDecodeError('Expecting value: line 1 column 1 (char 0)')\n",
      "Error! TB vs HOU. Year 2019 Week 16\n",
      "JSONDecodeError('Expecting value: line 1 column 1 (char 0)')\n",
      "Error! ATL vs JAX. Year 2019 Week 16\n",
      "JSONDecodeError('Expecting value: line 1 column 1 (char 0)')\n",
      "Error! CLE vs BAL. Year 2019 Week 16\n",
      "JSONDecodeError('Expecting value: line 1 column 1 (char 0)')\n",
      "Error! IND vs CAR. Year 2019 Week 16\n",
      "JSONDecodeError('Expecting value: line 1 column 1 (char 0)')\n",
      "Error! MIA vs CIN. Year 2019 Week 16\n",
      "JSONDecodeError('Expecting value: line 1 column 1 (char 0)')\n",
      "Error! NYJ vs PIT. Year 2019 Week 16\n",
      "JSONDecodeError('Expecting value: line 1 column 1 (char 0)')\n",
      "Error! TEN vs NO. Year 2019 Week 16\n",
      "JSONDecodeError('Expecting value: line 1 column 1 (char 0)')\n",
      "Error! WAS vs NYG. Year 2019 Week 16\n",
      "JSONDecodeError('Expecting value: line 1 column 1 (char 0)')\n",
      "Error! PHI vs DAL. Year 2019 Week 16\n",
      "JSONDecodeError('Expecting value: line 1 column 1 (char 0)')\n",
      "Error! SEA vs ARI. Year 2019 Week 16\n",
      "JSONDecodeError('Expecting value: line 1 column 1 (char 0)')\n",
      "Error! CHI vs KC. Year 2019 Week 16\n",
      "JSONDecodeError('Expecting value: line 1 column 1 (char 0)')\n"
     ]
    }
   ],
   "source": [
    "curr_year = 2009\n",
    "offensive_data = []\n",
    "\n",
    "for game in all_games:\n",
    "    try:\n",
    "        game_id = str(game['year']) + str(game['week']) + game['home'] + game['away']\n",
    "        if game_id in offensive_encountered:\n",
    "            continue\n",
    "        \n",
    "        offensive_encountered.append(game_id)\n",
    "            \n",
    "        new_response = requests.post(game_url, params={'api_key': nfl_api_key, 'game_id': game['id']})\n",
    "        game_resp = new_response.json()\n",
    "        if str(curr_year) == game['year']:\n",
    "            print(curr_year)\n",
    "            curr_year += 1\n",
    "\n",
    "        for team, loc, opp_loc in [(game['home'], 'home', 'away'), (game['away'], 'away', 'home')]:\n",
    "            team_pts = game[loc + '_score']\n",
    "            opp_team = game[opp_loc]\n",
    "            opp_pts = game[opp_loc + '_score']\n",
    "\n",
    "            # Gather player data\n",
    "            players = {}\n",
    "\n",
    "            if 'passing' in game_resp[loc]['stats'].keys():\n",
    "                passing_players = game_resp[loc]['stats']['passing']\n",
    "                for passing_player in passing_players.keys():\n",
    "                    curr_player = passing_players[passing_player]\n",
    "                    player_entry = { 'two_points': 0 }\n",
    "                    if passing_player in players.keys():\n",
    "                        player_entry = players[passing_player]\n",
    "                    player_entry['name'] = curr_player['name']\n",
    "                    player_entry['pass_attempts'] = curr_player['attempts']\n",
    "                    player_entry['pass_tds'] = curr_player['touchdowns']\n",
    "                    player_entry['pass_yds'] = curr_player['yards']\n",
    "                    player_entry['interceptions'] = curr_player['interceptions']\n",
    "                    player_entry['two_points'] += curr_player['two_point_makes']\n",
    "                    players[passing_player] = player_entry\n",
    "\n",
    "            if 'rushing' in game_resp[loc]['stats'].keys():\n",
    "                rushing_players = game_resp[loc]['stats']['rushing']\n",
    "                for rushing_player in rushing_players.keys():\n",
    "                    curr_player = rushing_players[rushing_player]\n",
    "                    player_entry = { 'two_points': 0 }\n",
    "                    if rushing_player in players.keys():\n",
    "                        player_entry = players[rushing_player]\n",
    "                    player_entry['name'] = curr_player['name']\n",
    "                    player_entry['rush_attempts'] = curr_player['attempts']\n",
    "                    player_entry['rush_tds'] = curr_player['touchdowns']\n",
    "                    player_entry['rush_yds'] = curr_player['yards']\n",
    "                    player_entry['rush_long'] = curr_player['long']\n",
    "                    player_entry['two_points'] += curr_player['two_point_makes']\n",
    "                    players[rushing_player] = player_entry\n",
    "\n",
    "            if 'receiving' in game_resp[loc]['stats'].keys():\n",
    "                receiving_players = game_resp[loc]['stats']['receiving']\n",
    "                for receiving_player in receiving_players.keys():\n",
    "                    curr_player = receiving_players[receiving_player]\n",
    "                    player_entry = { 'two_points': 0 }\n",
    "                    if receiving_player in players.keys():\n",
    "                        player_entry = players[receiving_player]\n",
    "                    player_entry['name'] = curr_player['name']\n",
    "                    player_entry['receptions'] = curr_player['receptions']\n",
    "                    player_entry['rec_tds'] = curr_player['touchdowns']\n",
    "                    player_entry['rec_yds'] = curr_player['yards']\n",
    "                    player_entry['rec_long'] = curr_player['long']\n",
    "                    player_entry['two_points'] += curr_player['two_point_makes']\n",
    "                    players[receiving_player] = player_entry\n",
    "\n",
    "            if 'fumbles' in game_resp[loc]['stats'].keys():\n",
    "                fumble_players = game_resp[loc]['stats']['fumbles']\n",
    "                for fumble_player in fumble_players.keys():\n",
    "                    curr_player = fumble_players[fumble_player]\n",
    "                    player_entry = { 'two_points': 0 }\n",
    "                    if fumble_player in players.keys():\n",
    "                        player_entry = players[fumble_player]\n",
    "                    player_entry['name'] = curr_player['name']\n",
    "                    player_entry['fumbles'] = curr_player['total_fumbles']\n",
    "                    player_entry['fumbles_lost'] = curr_player['fumbles_lost']\n",
    "                    players[fumble_player] = player_entry\n",
    "\n",
    "            if 'kick_return' in game_resp[loc]['stats'].keys():\n",
    "                kick_return_players = game_resp[loc]['stats']['kick_return']\n",
    "                for kick_return_player in kick_return_players.keys():\n",
    "                    curr_player = kick_return_players[kick_return_player]\n",
    "                    player_entry = { 'two_points': 0 }\n",
    "                    if kick_return_player in players.keys():\n",
    "                        player_entry = players[kick_return_player]\n",
    "                    player_entry['name'] = curr_player['name']\n",
    "                    player_entry['kr_tds'] = curr_player['touchdowns']\n",
    "                    players[kick_return_player] = player_entry\n",
    "\n",
    "            if 'punt_return' in game_resp[loc]['stats'].keys():\n",
    "                punt_return_players = game_resp[loc]['stats']['punt_return']\n",
    "                for punt_return_player in punt_return_players.keys():\n",
    "                    curr_player = punt_return_players[punt_return_player]\n",
    "                    player_entry = { 'two_points': 0 }\n",
    "                    if punt_return_player in players.keys():\n",
    "                        player_entry = players[punt_return_player]\n",
    "                    player_entry['name'] = curr_player['name']\n",
    "                    player_entry['pr_tds'] = curr_player['touchdowns']\n",
    "                    players[punt_return_player] = player_entry\n",
    "\n",
    "            for player_key in players.keys():\n",
    "                player = players[player_key]\n",
    "                offensive_data.append([game['year'], game['week'], team, opp_team, player.get('name'), player.get('pass_attempts', 0), player.get('pass_yds', 0), player.get('pass_tds', 0),\n",
    "                                       player.get('interceptions', 0), player.get('rush_attempts', 0), player.get('rush_yds', 0), player.get('rush_tds', 0), player.get('rush_long', 0),\n",
    "                                       player.get('receptions', 0), player.get('rec_yds', 0), player.get('rec_tds', 0), player.get('rec_long', 0), player.get('two_points', 0), player.get('fumbles', 0), \n",
    "                                       player.get('fumbles_lost', 0), player.get('kr_tds', 0), player.get('pr_tds', 0), team_pts, opp_pts, player_key\n",
    "                                       ])\n",
    "    except Exception as e:\n",
    "        print('Error! {} vs {}. Year {} Week {}'.format(game['home'], game['away'], game['year'], game['week']))\n",
    "        print(getattr(e, 'message', repr(e)))\n",
    "        pass"
   ]
  },
  {
   "cell_type": "code",
   "execution_count": 239,
   "metadata": {},
   "outputs": [],
   "source": [
    "offensive_df = pd.DataFrame(offensive_data, columns=['Year', 'Week', 'Team', 'Opposing Team', 'Name', 'Pass Attempts', 'Pass Yards', 'Pass TDs', 'Ints', 'Rush Attempts', 'Rush Yards', 'Rush TDs', 'Rush Long', 'Receptions', 'Rec Yards', 'Rec TDs', 'Rec Long', 'Two Points', 'Fumbles', 'Fumbles Lost', 'KR TDs', 'PR TDs', 'Team Score', 'Opposing Score', 'PlayerID'])\n",
    "offensive_df.to_csv('offensive_data.csv', index=False)"
   ]
  },
  {
   "cell_type": "code",
   "execution_count": null,
   "metadata": {},
   "outputs": [],
   "source": [
    "game_resp['home']['stats']['defense']"
   ]
  },
  {
   "cell_type": "markdown",
   "metadata": {},
   "source": [
    "## Schedule Data"
   ]
  },
  {
   "cell_type": "code",
   "execution_count": 255,
   "metadata": {},
   "outputs": [],
   "source": [
    "game_encountered = []"
   ]
  },
  {
   "cell_type": "code",
   "execution_count": 256,
   "metadata": {},
   "outputs": [],
   "source": [
    "game_data = []\n",
    "for game in all_games:\n",
    "    game_id = str(game['year']) + str(game['week']) + game['home'] + game['away']\n",
    "    if game_id in game_encountered:\n",
    "        continue\n",
    "        \n",
    "    game_encountered.append(game_id)\n",
    "    \n",
    "    game_data.append([game['year'], game['week'], game['home'], game['home_score'], \n",
    "                      game['away'], game['away_score'], game['month'], game['day'], game['time']])"
   ]
  },
  {
   "cell_type": "code",
   "execution_count": 257,
   "metadata": {},
   "outputs": [],
   "source": [
    "game_df = pd.DataFrame(game_data, columns=['Year', 'Week', 'Home Team', 'Home Score', 'Away Team', 'Away Score', 'Month', 'Day', 'Time'])\n",
    "game_df.to_csv('schedule_data.csv', index=False)"
   ]
  },
  {
   "cell_type": "markdown",
   "metadata": {},
   "source": [
    "## Weather Data"
   ]
  },
  {
   "cell_type": "code",
   "execution_count": 258,
   "metadata": {},
   "outputs": [],
   "source": [
    "weather_url = 'http://history.openweathermap.org/data/2.5/history/city'\n",
    "city_id = 3882428\n",
    "type_call = 'hour'\n",
    "start = 1252585800\n",
    "cnt = 2\n",
    "weather_api_key = '26aa50f82507f34fca4e6d212f2bd716'"
   ]
  },
  {
   "cell_type": "code",
   "execution_count": 261,
   "metadata": {},
   "outputs": [
    {
     "data": {
      "text/plain": [
       "<Response [401]>"
      ]
     },
     "execution_count": 261,
     "metadata": {},
     "output_type": "execute_result"
    }
   ],
   "source": [
    "requests.get(weather_url, params={ 'id': city_id, 'type': type_call, 'appid': weather_api_key,\n",
    "                                  'start': start, 'cnt': cnt})"
   ]
  },
  {
   "cell_type": "code",
   "execution_count": null,
   "metadata": {},
   "outputs": [],
   "source": []
  }
 ],
 "metadata": {
  "kernelspec": {
   "display_name": "Python (cos429)",
   "language": "python",
   "name": "cos429"
  },
  "language_info": {
   "codemirror_mode": {
    "name": "ipython",
    "version": 3
   },
   "file_extension": ".py",
   "mimetype": "text/x-python",
   "name": "python",
   "nbconvert_exporter": "python",
   "pygments_lexer": "ipython3",
   "version": "3.7.4"
  }
 },
 "nbformat": 4,
 "nbformat_minor": 4
}
